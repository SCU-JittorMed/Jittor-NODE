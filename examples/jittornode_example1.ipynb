{
 "cells": [
  {
   "cell_type": "code",
   "execution_count": null,
   "metadata": {
    "tags": []
   },
   "outputs": [],
   "source": [
    "import jittor as jt\n",
    "import jittor.nn as nn\n",
    "jt.flags.use_cuda = 1\n",
    "from jittornode import odeint\n",
    "\n",
    "import numpy as np\n",
    "import matplotlib.pyplot as plt\n",
    "from scipy.integrate import solve_ivp\n",
    "\n",
    "# ===== SciPy 部分 =====\n",
    "def ode_rhs(t, y_flat):\n",
    "    y = y_flat.reshape(1, 2)\n",
    "    dydt = (y ** 3) @ np.array([[-0.1, 2.0], [-2.0, -0.1]])\n",
    "    return dydt.flatten()\n",
    "\n",
    "t0, t1 = 0.0, 1.0\n",
    "y0 = np.array([2.0, 0.0])\n",
    "t_eval = np.linspace(t0, t1, 1000)\n",
    "\n",
    "sol = solve_ivp(ode_rhs, t_span=(t0, t1), y0=y0, t_eval=t_eval, method=\"RK45\", rtol=1e-8, atol=1e-10)\n",
    "\n",
    "# ===== Jittor 部分 =====\n",
    "true_y0 = jt.array([[2.0, 0.0]])\n",
    "t_jt = jt.linspace(t0, t1, 1000)\n",
    "true_A = jt.array([[-0.1, 2.0], [-2.0, -0.1]])\n",
    "\n",
    "# 定义 ODE 函数\n",
    "class ODEFunc(nn.Module):\n",
    "    def execute(self, t, y):\n",
    "        return jt.matmul(y**3, true_A)\n",
    "    \n",
    "\n",
    "jt_solution = odeint(ODEFunc(), true_y0, t_jt, method='rk4')\n",
    "jt_solution_np = jt_solution.squeeze(1).numpy()\n",
    "\n",
    "# ===== 误差分析 =====\n",
    "abs_error = np.abs(jt_solution_np - sol.y.T)\n",
    "l2_error = np.sqrt(np.sum(abs_error**2, axis=1))\n",
    "\n",
    "print(\"最大绝对误差:\", abs_error.max())\n",
    "print(\"平均L2误差:\", np.mean(l2_error))\n",
    "\n",
    "# ===== 可视化对比 =====\n",
    "plt.figure(figsize=(12, 5))\n",
    "plt.subplot(1, 2, 1)\n",
    "plt.plot(t_eval, sol.y[0], label=\"SciPy y[0]\", linestyle=\"--\")\n",
    "plt.plot(t_eval, jt_solution_np[:, 0], label=\"Jittor y[0]\", alpha=0.8)\n",
    "plt.legend()\n",
    "plt.title(\"y[0] Comparison\")\n",
    "\n",
    "plt.subplot(1, 2, 2)\n",
    "plt.plot(t_eval, sol.y[1], label=\"SciPy y[1]\", linestyle=\"--\")\n",
    "plt.plot(t_eval, jt_solution_np[:, 1], label=\"Jittor y[1]\", alpha=0.8)\n",
    "plt.legend()\n",
    "plt.title(\"y[1] Comparison\")\n",
    "\n",
    "plt.tight_layout()\n",
    "plt.grid(True)\n",
    "plt.show()"
   ]
  },
  {
   "cell_type": "code",
   "execution_count": null,
   "metadata": {},
   "outputs": [],
   "source": []
  }
 ],
 "metadata": {
  "kernelspec": {
   "display_name": "Python 3",
   "language": "python",
   "name": "python3"
  },
  "language_info": {
   "codemirror_mode": {
    "name": "ipython",
    "version": 3
   },
   "file_extension": ".py",
   "mimetype": "text/x-python",
   "name": "python",
   "nbconvert_exporter": "python",
   "pygments_lexer": "ipython3",
   "version": "3.8.5"
  }
 },
 "nbformat": 4,
 "nbformat_minor": 4
}
