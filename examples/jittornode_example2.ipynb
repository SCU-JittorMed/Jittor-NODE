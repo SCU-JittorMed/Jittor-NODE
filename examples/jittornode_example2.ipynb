{
 "cells": [
  {
   "cell_type": "code",
   "execution_count": null,
   "metadata": {
    "tags": []
   },
   "outputs": [],
   "source": [
    "import jittor as jt\n",
    "import jittor.nn as nn\n",
    "jt.flags.use_cuda = 1\n",
    "from jittor.dataset.mnist import MNIST\n",
    "from jittornode import odeint\n",
    "from tqdm import tqdm\n",
    "\n",
    "# define ODEBlock and ODENet\n",
    "class ODEBlock(nn.Module):\n",
    "    def __init__(self, dim):\n",
    "        super().__init__()\n",
    "        self.linear1 = nn.Linear(dim, dim)\n",
    "        self.relu = nn.ReLU()\n",
    "        self.linear2 = nn.Linear(dim, dim)\n",
    "\n",
    "    def execute(self, t, y):\n",
    "        return self.linear2(self.relu(self.linear1(y)))\n",
    "    \n",
    "\n",
    "class ODENet(nn.Module):\n",
    "    def __init__(self):\n",
    "        super().__init__()\n",
    "        self.conv1 = nn.Conv(1, 32, 3, padding=1)      \n",
    "        self.relu = nn.ReLU()\n",
    "        self.pool = nn.Pool(2, 2)                      \n",
    "        self.conv2 = nn.Conv(32, 64, 3, padding=1)     \n",
    "        \n",
    "        self.gap = nn.AdaptiveAvgPool2d(1)             \n",
    "        self.flatten = nn.Flatten()\n",
    "\n",
    "        self.odeblock = ODEBlock(64)                     \n",
    "        self.t = jt.linspace(0.0, 1.0, 10)\n",
    "\n",
    "        self.fc = nn.Linear(64, 10)                    \n",
    "\n",
    "    def execute(self, x):\n",
    "        x = self.relu(self.conv1(x))  \n",
    "        x = self.pool(x)              \n",
    "        x = self.relu(self.conv2(x))   \n",
    "        x = self.gap(x)                \n",
    "        x = self.flatten(x)            \n",
    "        x = odeint(self.odeblock, x, self.t, method='rk4')\n",
    "        x = x[-1]                      \n",
    "        return self.fc(x)    "
   ]
  },
  {
   "cell_type": "code",
   "execution_count": null,
   "metadata": {
    "tags": []
   },
   "outputs": [],
   "source": [
    "# load MNIST\n",
    "train_loader = MNIST(train=True).set_attrs(batch_size=128, shuffle=True)\n",
    "test_loader = MNIST(train=False).set_attrs(batch_size=128)\n",
    "\n",
    "\n",
    "# create NODE \n",
    "model = ODENet()\n",
    "optimizer = nn.Adam(model.parameters(), lr=0.001)\n",
    "\n",
    "# training and test\n",
    "for epoch in range(100):\n",
    "    pbar = tqdm(enumerate(train_loader), total=len(train_loader), desc=f\"Epoch {epoch} [Train]\")\n",
    "    for i, (imgs, labels) in pbar:\n",
    "        imgs = imgs[:, 0:1, :, :]  # only load the first channel\n",
    "        labels = jt.array(labels)\n",
    "\n",
    "        preds = model(imgs)\n",
    "        loss = jt.nn.cross_entropy_loss(preds, labels)\n",
    "        optimizer.step(loss)\n",
    "\n",
    "        if i % 20 == 0:\n",
    "            pred_labels, _ = jt.argmax(preds, dim=1)\n",
    "            acc = (pred_labels == labels).float32().mean()\n",
    "\n",
    "            pbar.set_postfix({\n",
    "                \"Iter\": i,\n",
    "                \"Loss\": f\"{loss.item():.4f}\",\n",
    "                \"Acc\": f\"{acc.item():.4f}\"\n",
    "            })\n",
    "\n",
    "    total, correct = 0, 0\n",
    "    for imgs, labels in test_loader:\n",
    "        imgs = imgs[:, 0:1, :, :]\n",
    "        labels = jt.array(labels)\n",
    "\n",
    "        preds = model(imgs)\n",
    "        pred_labels, _ = jt.argmax(preds, dim=1)\n",
    "        correct += (pred_labels == labels).sum().item()\n",
    "        total += labels.shape[0]\n",
    "\n",
    "    test_acc = correct / total\n",
    "    print(f\"Epoch {epoch} [Test] Accuracy: {test_acc:.4f}\")"
   ]
  },
  {
   "cell_type": "code",
   "execution_count": null,
   "metadata": {},
   "outputs": [],
   "source": []
  }
 ],
 "metadata": {
  "kernelspec": {
   "display_name": "Python 3",
   "language": "python",
   "name": "python3"
  },
  "language_info": {
   "codemirror_mode": {
    "name": "ipython",
    "version": 3
   },
   "file_extension": ".py",
   "mimetype": "text/x-python",
   "name": "python",
   "nbconvert_exporter": "python",
   "pygments_lexer": "ipython3",
   "version": "3.8.5"
  }
 },
 "nbformat": 4,
 "nbformat_minor": 4
}
